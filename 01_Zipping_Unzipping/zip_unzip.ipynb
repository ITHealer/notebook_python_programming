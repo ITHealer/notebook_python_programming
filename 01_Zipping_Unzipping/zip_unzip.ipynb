{
 "cells": [
  {
   "cell_type": "markdown",
   "metadata": {},
   "source": [
    "## Zipping and Unzipping Files and Folders with Python"
   ]
  },
  {
   "cell_type": "markdown",
   "metadata": {},
   "source": [
    "https://wellsr.com/python/zipping-and-unzipping-files-with-python/"
   ]
  },
  {
   "cell_type": "markdown",
   "metadata": {},
   "source": [
    "* In Python, you can use both the zipfile or shutil modules to zip and unzip files."
   ]
  },
  {
   "cell_type": "markdown",
   "metadata": {},
   "source": [
    "### 1. Zipping Files and Folders"
   ]
  },
  {
   "cell_type": "markdown",
   "metadata": {},
   "source": [
    "#### Zipfile library"
   ]
  },
  {
   "cell_type": "code",
   "execution_count": 1,
   "metadata": {},
   "outputs": [],
   "source": [
    "import zipfile"
   ]
  },
  {
   "cell_type": "markdown",
   "metadata": {},
   "source": [
    "Pass w as the second argument to create a writeable zip file."
   ]
  },
  {
   "cell_type": "markdown",
   "metadata": {},
   "source": [
    "* Bước này chỉ mới tạo file zip và file zip chưa có gì cả và nó đang ở chế độ ghi"
   ]
  },
  {
   "cell_type": "code",
   "execution_count": 2,
   "metadata": {},
   "outputs": [],
   "source": [
    "create_zip_file = zipfile.ZipFile(\"D:\\\\master_python\\\\python\\\\01_Zipping_Unzipping\\\\files_to_zip.zip\", \"w\")"
   ]
  },
  {
   "cell_type": "code",
   "execution_count": 3,
   "metadata": {},
   "outputs": [
    {
     "data": {
      "text/plain": [
       "<zipfile.ZipFile filename='D:\\\\master_python\\\\python\\\\01_Zipping_Unzipping\\\\files_to_zip.zip' mode='w'>"
      ]
     },
     "execution_count": 3,
     "metadata": {},
     "output_type": "execute_result"
    }
   ],
   "source": [
    "create_zip_file"
   ]
  },
  {
   "cell_type": "code",
   "execution_count": 4,
   "metadata": {},
   "outputs": [],
   "source": [
    "create_zip_file.write(r\"D:\\\\master_python\\\\python\\\\01_Zipping_Unzipping\\\\files_to_zip\\\\my_file.txt\", compress_type = zipfile.ZIP_DEFLATED)"
   ]
  },
  {
   "cell_type": "markdown",
   "metadata": {},
   "source": [
    "Sau khi đã bao gồm tất cả các tệp, bạn cần đóng đối tượng lớp ZipFile đã mở bằng cách gọi phương close()thức, như sau:"
   ]
  },
  {
   "cell_type": "code",
   "execution_count": 5,
   "metadata": {},
   "outputs": [],
   "source": [
    "create_zip_file.close()"
   ]
  },
  {
   "cell_type": "markdown",
   "metadata": {},
   "source": [
    "**Bạn có thể sử dụng mô-đun zipfile để nén các tệp riêng lẻ nhưng bạn không thể nén toàn bộ thư mục thông qua mô-đun zipfile**"
   ]
  },
  {
   "cell_type": "markdown",
   "metadata": {},
   "source": [
    "#### Shutil"
   ]
  },
  {
   "cell_type": "code",
   "execution_count": 6,
   "metadata": {},
   "outputs": [],
   "source": [
    "import shutil"
   ]
  },
  {
   "cell_type": "code",
   "execution_count": 7,
   "metadata": {},
   "outputs": [],
   "source": [
    "create_zip = shutil.make_archive(\"D:\\\\master_python\\\\python\\\\01_Zipping_Unzipping\\\\shutil_zip\", \"zip\", r\"D:\\master_python\\python\\01_Zipping_Unzipping\\files_to_zip\")"
   ]
  },
  {
   "cell_type": "markdown",
   "metadata": {},
   "source": [
    "### Unzip"
   ]
  },
  {
   "cell_type": "code",
   "execution_count": 8,
   "metadata": {},
   "outputs": [],
   "source": [
    "import zipfile"
   ]
  },
  {
   "cell_type": "code",
   "execution_count": 11,
   "metadata": {},
   "outputs": [],
   "source": [
    "extract_zip = zipfile.ZipFile(\"D:\\\\master_python\\\\python\\\\01_Zipping_Unzipping\\\\files_to_zip.zip\", \"r\")\n",
    "extract_zip.extractall(\"\")"
   ]
  },
  {
   "cell_type": "code",
   "execution_count": null,
   "metadata": {},
   "outputs": [],
   "source": []
  },
  {
   "cell_type": "code",
   "execution_count": 12,
   "metadata": {},
   "outputs": [],
   "source": [
    "import shutil\n",
    "shutil.unpack_archive(\"D:\\\\master_python\\\\python\\\\01_Zipping_Unzipping\\\\shutil_zip.zip\", \"D:\\\\master_python\\\\python\\\\01_Zipping_Unzipping\\\\shutil_zip\", \"zip\")"
   ]
  },
  {
   "cell_type": "code",
   "execution_count": null,
   "metadata": {},
   "outputs": [],
   "source": []
  }
 ],
 "metadata": {
  "kernelspec": {
   "display_name": "venv",
   "language": "python",
   "name": "python3"
  },
  "language_info": {
   "codemirror_mode": {
    "name": "ipython",
    "version": 3
   },
   "file_extension": ".py",
   "mimetype": "text/x-python",
   "name": "python",
   "nbconvert_exporter": "python",
   "pygments_lexer": "ipython3",
   "version": "3.9.10"
  }
 },
 "nbformat": 4,
 "nbformat_minor": 2
}
